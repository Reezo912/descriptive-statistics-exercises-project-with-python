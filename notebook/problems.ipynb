{
    "cells": [
        {
            "cell_type": "markdown",
            "id": "ac622319",
            "metadata": {},
            "source": [
                "# Descriptive statistics problems"
            ]
        },
        {
            "cell_type": "markdown",
            "id": "5e0ab0d5",
            "metadata": {},
            "source": [
                "### Exercise 1\n",
                "\n",
                "We will use NumPy to obtain information to describe statistically.\n",
                "\n",
                "- Generate an array of 100 elements following a normal distribution.\n",
                "- Generate an array of 100 elements following a chi-square distribution with 3 degrees of freedom.\n",
                "- Calculate the main metrics and statistical measures that best describe the two vectors."
            ]
        },
        {
            "cell_type": "code",
            "execution_count": null,
            "id": "34720ab6",
            "metadata": {},
            "outputs": [
                {
                    "name": "stdout",
                    "output_type": "stream",
                    "text": [
                        "La media del array 1 es: 253.9708331468437\n",
                        "La media del array 2 es: 19.791920518143804\n",
                        "La mediana del array 1 es: 254.718420710619\n",
                        "La mediana del array 2 es: 19.77650363155562\n",
                        "La moda del array 1 es: 316.5793252064759\n",
                        "La moda del array 2 es: 20.073065659166318\n",
                        "Normal range: 229.96815824581034\n",
                        "Normal chi: 28.39937096780562\n",
                        "Normal variance: 2361.528662364519 and std: 48.595562167388486\n",
                        "Chi variance: 33.70048533951111 and std: 5.8052119116799785\n",
                        "Normal skewness: 0.013640630909282657\n",
                        "Chi skewness: 0.20340411313905266\n",
                        "Array 1 curtosis:  0.12453154540548539\n",
                        "Array 2 curtosis:  -0.2038690517793258\n"
                    ]
                }
            ],
            "source": [
                "# TODO\n",
                "\n",
                "import numpy as np\n",
                "import statistics as stats\n",
                "\n",
                "np.random.seed(10)\n",
                "\n",
                "\n",
                "array_1 = np.random.normal(250, 50, 100)\n",
                "array_2 = np.random.chisquare(20, 100)\n",
                "\n",
                "\n",
                "# Media\n",
                "\n",
                "print(f'La media del array 1 es: {stats.mean(array_1)}')\n",
                "print(f'La media del array 2 es: {stats.mean(array_2)}')\n",
                "\n",
                "\n",
                "# Mediana\n",
                "\n",
                "print(f'La mediana del array 1 es: {stats.median(array_1)}')\n",
                "print(f'La mediana del array 2 es: {stats.median(array_2)}')\n",
                "\n",
                "\n",
                "# Moda\n",
                "\n",
                "print(f'La moda del array 1 es: {stats.mode(array_1)}')\n",
                "print(f'La moda del array 2 es: {stats.mode(array_2)}')\n",
                "\n",
                "\n",
                "# Rango\n",
                "\n",
                "rango_array_1 = max(array_1) - min(array_1)\n",
                "rango_array_2 = max(array_2) - min(array_2)\n",
                "\n",
                "print(f\"Normal range: {rango_array_1}\")\n",
                "print(f\"Normal chi: {rango_array_2}\")\n",
                "\n",
                "\n",
                "# Varianza y desviacion estandar\n",
                "\n",
                "var_array_1 = stats.variance(array_1)\n",
                "std_array_1 = stats.stdev(array_1)\n",
                "\n",
                "var_array_2 = stats.variance(array_2)\n",
                "std_array_2 = stats.stdev(array_2)\n",
                "\n",
                "print(f\"Normal variance: {var_array_1} and std: {std_array_1}\")\n",
                "print(f\"Chi variance: {var_array_2} and std: {std_array_2}\")\n",
                "\n",
                "\n",
                "# Asimetria (Skewness)\n",
                "\n",
                "from scipy.stats import skew\n",
                "\n",
                "skewness_array_1 = skew(array_1)\n",
                "skewness_array_2 = skew(array_2)\n",
                "\n",
                "print(f\"Normal skewness: {skewness_array_1}\")\n",
                "print(f\"Chi skewness: {skewness_array_2}\")\n",
                "\n",
                "\n",
                "# Curtosis\n",
                "\n",
                "from scipy.stats import kurtosis\n",
                "\n",
                "\n",
                "array_1_kurtosis = kurtosis(array_1)\n",
                "array_2_kurtosis = kurtosis(array_2)\n",
                "\n",
                "print('Array 1 curtosis: ', array_1_kurtosis)\n",
                "print('Array 2 curtosis: ', array_2_kurtosis)"
            ]
        },
        {
            "cell_type": "markdown",
            "id": "46c70c3d",
            "metadata": {},
            "source": [
                "### Exercise 2\n",
                "\n",
                "Write a Python program to calculate the standard deviation of the following data:\n",
                "\n",
                "```py\n",
                "data = [4, 2, 5, 8, 6]\n",
                "```"
            ]
        },
        {
            "cell_type": "code",
            "execution_count": 25,
            "id": "d590308e",
            "metadata": {},
            "outputs": [
                {
                    "name": "stdout",
                    "output_type": "stream",
                    "text": [
                        "La desviación estándar es: 2.24\n"
                    ]
                }
            ],
            "source": [
                "# TODO\n",
                "\n",
                "import math\n",
                "\n",
                "def calcular_desviacion_estandar(data):\n",
                "    n = len(data)\n",
                "    media = sum(data) / n\n",
                "    varianza = sum((x - media) ** 2 for x in data) / (n - 1)\n",
                "    desviacion_estandar = math.sqrt(varianza)\n",
                "    return desviacion_estandar\n",
                "\n",
                "\n",
                "data = [4, 2, 5, 8, 6]\n",
                "desviacion = calcular_desviacion_estandar(data)\n",
                "\n",
                "print(f\"La desviación estándar es: {desviacion:.2f}\")\n"
            ]
        }
    ],
    "metadata": {
        "kernelspec": {
            "display_name": "Python 3",
            "language": "python",
            "name": "python3"
        },
        "language_info": {
            "codemirror_mode": {
                "name": "ipython",
                "version": 3
            },
            "file_extension": ".py",
            "mimetype": "text/x-python",
            "name": "python",
            "nbconvert_exporter": "python",
            "pygments_lexer": "ipython3",
            "version": "3.11.9"
        }
    },
    "nbformat": 4,
    "nbformat_minor": 5
}
